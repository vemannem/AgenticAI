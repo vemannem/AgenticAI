{
  "nbformat": 4,
  "nbformat_minor": 0,
  "metadata": {
    "colab": {
      "provenance": []
    },
    "kernelspec": {
      "name": "python3",
      "display_name": "Python 3"
    },
    "language_info": {
      "name": "python"
    }
  },
  "cells": [
    {
      "cell_type": "code",
      "execution_count": 21,
      "metadata": {
        "id": "s4UzvI-5osGL",
        "colab": {
          "base_uri": "https://localhost:8080/"
        },
        "outputId": "3b429bcd-ec51-42f0-ab6c-17d306bce120"
      },
      "outputs": [
        {
          "name": "stdout",
          "output_type": "stream",
          "text": [
            "OpenAI Key: ··········\n"
          ]
        }
      ],
      "source": [
        "import getpass\n",
        "import os\n",
        "\n",
        "OPEN_AI_KEY = getpass.getpass(\"OpenAI Key: \")\n",
        "os.environ[\"OPENAI_API_KEY\"] = OPEN_AI_KEY"
      ]
    },
    {
      "cell_type": "code",
      "source": [
        "!pip install -U --quiet langgraph \"langchain[openai]\" langchain-community langchain_text_splitters\n",
        "!pip install --quiet langchain-openai\n",
        "!pip install faiss-cpu --quiet\n",
        "!pip install gradio_client==0.2.10\n",
        "!pip install gradio==3.38.0"
      ],
      "metadata": {
        "id": "-rgi6NugrWxI"
      },
      "execution_count": null,
      "outputs": []
    },
    {
      "cell_type": "markdown",
      "source": [
        "# Step1 : Load Web Page\n",
        "# Step 2: Chunk the Document ( Chunk size and overlap)"
      ],
      "metadata": {
        "id": "Lb03mXl8yz3-"
      }
    },
    {
      "cell_type": "code",
      "source": [
        "from langchain_community.document_loaders import WebBaseLoader\n",
        "from langchain_text_splitters import RecursiveCharacterTextSplitter\n",
        "\n",
        "urls = [\n",
        "    \"https://lilianweng.github.io/posts/2023-06-23-agent/\"\n",
        "]\n",
        "\n",
        "docs = [WebBaseLoader(url).load() for url in urls]\n",
        "\n",
        "#print(f\"Loaded data from {len(urls)} URLs.\")\n",
        "\n",
        "doc_list = [item for sublist in docs for item in sublist]\n",
        "\n",
        "text_splitter = RecursiveCharacterTextSplitter(\n",
        "    chunk_size=1000,\n",
        "    chunk_overlap=200\n",
        ")\n",
        "\n",
        "texts = text_splitter.split_documents(doc_list)"
      ],
      "metadata": {
        "id": "T_vT3vhbrenU"
      },
      "execution_count": 28,
      "outputs": []
    },
    {
      "cell_type": "code",
      "source": [
        "docs[0][0].page_content.strip()[:1000]"
      ],
      "metadata": {
        "id": "AraqvdocssNi"
      },
      "execution_count": null,
      "outputs": []
    },
    {
      "cell_type": "code",
      "source": [
        "texts[0].page_content.strip()"
      ],
      "metadata": {
        "id": "NY1hYStatYoZ"
      },
      "execution_count": null,
      "outputs": []
    },
    {
      "cell_type": "markdown",
      "source": [
        "# Step3 : Create FAISS Vector DB with Embeddings (In memory)\n",
        "\n",
        "# Step4 : Create Retriever"
      ],
      "metadata": {
        "id": "_EYP1tjKzHnO"
      }
    },
    {
      "cell_type": "code",
      "source": [
        "from langchain_openai import OpenAIEmbeddings\n",
        "from langchain_community.vectorstores import FAISS\n",
        "from langchain_core.tools.retriever import create_retriever_tool\n",
        "\n",
        "# create embeddings instance\n",
        "embeddings = OpenAIEmbeddings()\n",
        "\n",
        "# build vectorstore from your loaded docs\n",
        "vectorstore = FAISS.from_documents(texts, embeddings)\n",
        "\n",
        "retriver = vectorstore.as_retriever()"
      ],
      "metadata": {
        "id": "VHzKXrp1trbO"
      },
      "execution_count": 32,
      "outputs": []
    },
    {
      "cell_type": "markdown",
      "source": [
        "# Step5:  Create History Aware retriever - Retrieve1\n",
        "## For creating Contextualize Question from input question using History\n",
        "\n",
        "### Define Prompt for creating Contextualize question . This should not answer input question.\n",
        "\n",
        "### Create History Aware Retriever using LLM & retriever , contextualize prompt"
      ],
      "metadata": {
        "id": "lXeUP_tl0pDL"
      }
    },
    {
      "cell_type": "code",
      "source": [
        "from langchain_classic.chains import create_history_aware_retriever\n",
        "from langchain_core.prompts import MessagesPlaceholder\n",
        "from langchain_openai import ChatOpenAI\n",
        "from langchain_core.prompts import ChatPromptTemplate\n",
        "\n",
        "llm = ChatOpenAI(model=\"gpt-4o\")\n",
        "\n",
        "contextualize_q_system_prompt = (\n",
        "    \"Give the chat history and user latest quesiton which might reference context in the chat history, formulate a standalone question \"\n",
        "    \"which can be understood . Without the chat history, DO NOT answer the question, just reformulate it if needed and otherwise return it as is\"\n",
        ")\n",
        "contextualize_q_prompt = ChatPromptTemplate.from_messages(\n",
        "    [\n",
        "        (\"system\", contextualize_q_system_prompt),\n",
        "        MessagesPlaceholder(variable_name=\"chat_history\"),\n",
        "        (\"human\", \"{input}\"),\n",
        "    ]\n",
        ")\n",
        "\n",
        "history_awere_retriever = create_history_aware_retriever(\n",
        "    llm,retriver,contextualize_q_prompt\n",
        ")"
      ],
      "metadata": {
        "id": "XX_kZE7h0oPu"
      },
      "execution_count": 33,
      "outputs": []
    },
    {
      "cell_type": "markdown",
      "source": [
        "# Step6: Create Final Retriever - Retriever2"
      ],
      "metadata": {
        "id": "jgb0Isc31tNy"
      }
    },
    {
      "cell_type": "code",
      "source": [
        "from langchain_classic.chains.combine_documents.stuff import create_stuff_documents_chain\n",
        "from langchain_classic.chains import create_retrieval_chain\n",
        "\n",
        "# Incorporate the retriever into a question-answering chain.\n",
        "\n",
        "system_prompt = (\n",
        "    \"You are an assistant for question-answering tasks. \"\n",
        "    \"Use the following pieces of retrieved context to only answer \"\n",
        "    \"the question. If you don't know the answer, say that you \"\n",
        "    \"don't know. Use three sentences maximum and keep the \"\n",
        "    \"answer concise.\"\n",
        "    \"\\n\\n\"\n",
        "    \"{context}\"\n",
        ")\n",
        "\n",
        "\n",
        "qa_prompt = ChatPromptTemplate.from_messages(\n",
        "    [\n",
        "        (\"system\", system_prompt),\n",
        "        MessagesPlaceholder(\"chat_history\"),\n",
        "        (\"human\", \"{input}\")\n",
        "    ]\n",
        ")\n",
        "\n",
        "question_answering_chain = create_stuff_documents_chain(llm,qa_prompt)\n",
        "\n",
        "#History\n",
        "\n",
        "history_rag_chain = create_retrieval_chain(history_awere_retriever,question_answering_chain)\n",
        "\n",
        "# contextualize_q_prompt | llm1 | retriever | qa_prompt | llm2"
      ],
      "metadata": {
        "id": "xZeW0BVv1yIL"
      },
      "execution_count": 34,
      "outputs": []
    },
    {
      "cell_type": "markdown",
      "source": [
        "# Step7: Create Gradio based Chatbot with RAG Chain to answer  "
      ],
      "metadata": {
        "id": "Y8MhK7AY27vE"
      }
    },
    {
      "cell_type": "code",
      "source": [
        "from langchain_core.messages import AIMessage , HumanMessage\n",
        "import gradio as gr\n",
        "\n",
        "def predict(input, chat_history):\n",
        "  history_for_llm = []\n",
        "  for human, ai in chat_history:\n",
        "    history_for_llm.extend(\n",
        "        [\n",
        "            HumanMessage(content=human),\n",
        "            AIMessage(content=ai)\n",
        "            ]\n",
        "        )\n",
        "  aimsg = history_rag_chain.invoke({\"input\": input , \"chat_history\": history_for_llm})\n",
        "  return aimsg[\"answer\"]\n",
        "\n",
        "demo = gr.ChatInterface(predict,\n",
        "                        chatbot=gr.Chatbot(height=200),\n",
        "                        textbox=gr.Textbox(placeholder=\"Hi I am your virtual assistent, How I can help you today?\", container=False, scale=7),\n",
        "                        title=\"blogQABot\",\n",
        "                        theme=\"soft\",\n",
        "                        examples=[\"what is Task Decomposition?\"],\n",
        "                        retry_btn=None,\n",
        "                        undo_btn=\"Delete Previous\")\n",
        "\n",
        "demo.launch()"
      ],
      "metadata": {
        "colab": {
          "base_uri": "https://localhost:8080/",
          "height": 618
        },
        "id": "urMypIe52r4q",
        "outputId": "7d49cff6-1680-449b-d7bf-8a8d9071b56f"
      },
      "execution_count": 35,
      "outputs": [
        {
          "output_type": "stream",
          "name": "stdout",
          "text": [
            "Colab notebook detected. To show errors in colab notebook, set debug=True in launch()\n",
            "Note: opening Chrome Inspector may crash demo inside Colab notebooks.\n",
            "\n",
            "To create a public link, set `share=True` in `launch()`.\n"
          ]
        },
        {
          "output_type": "display_data",
          "data": {
            "text/plain": [
              "<IPython.core.display.Javascript object>"
            ],
            "application/javascript": [
              "(async (port, path, width, height, cache, element) => {\n",
              "                        if (!google.colab.kernel.accessAllowed && !cache) {\n",
              "                            return;\n",
              "                        }\n",
              "                        element.appendChild(document.createTextNode(''));\n",
              "                        const url = await google.colab.kernel.proxyPort(port, {cache});\n",
              "\n",
              "                        const external_link = document.createElement('div');\n",
              "                        external_link.innerHTML = `\n",
              "                            <div style=\"font-family: monospace; margin-bottom: 0.5rem\">\n",
              "                                Running on <a href=${new URL(path, url).toString()} target=\"_blank\">\n",
              "                                    https://localhost:${port}${path}\n",
              "                                </a>\n",
              "                            </div>\n",
              "                        `;\n",
              "                        element.appendChild(external_link);\n",
              "\n",
              "                        const iframe = document.createElement('iframe');\n",
              "                        iframe.src = new URL(path, url).toString();\n",
              "                        iframe.height = height;\n",
              "                        iframe.allow = \"autoplay; camera; microphone; clipboard-read; clipboard-write;\"\n",
              "                        iframe.width = width;\n",
              "                        iframe.style.border = 0;\n",
              "                        element.appendChild(iframe);\n",
              "                    })(7862, \"/\", \"100%\", 500, false, window.element)"
            ]
          },
          "metadata": {}
        },
        {
          "output_type": "execute_result",
          "data": {
            "text/plain": []
          },
          "metadata": {},
          "execution_count": 35
        }
      ]
    }
  ]
}